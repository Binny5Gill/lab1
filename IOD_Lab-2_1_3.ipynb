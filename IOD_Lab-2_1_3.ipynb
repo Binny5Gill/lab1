{
 "cells": [
  {
   "cell_type": "markdown",
   "metadata": {
    "id": "Qxi_CGp4Wp-1"
   },
   "source": [
    "<div>\n",
    "<img src=https://www.institutedata.com/wp-content/uploads/2019/10/iod_h_tp_primary_c.svg width=\"300\">\n",
    "</div>"
   ]
  },
  {
   "cell_type": "markdown",
   "metadata": {
    "id": "HzUGTgjSWp-2"
   },
   "source": [
    "# Lab 2.1.3 - Central Limit Theorem\n",
    "\n",
    "## Data\n",
    "\n",
    "The Philippine Statistics Authority (PSA) spearheads the conduct of the Family Income and Expenditure Survey (FIES) nationwide. The survey, which is undertaken every three (3) years, is aimed at providing data on family income and expenditure, including, among others, levels of consumption by item of expenditure, sources of income in cash, and related information affecting income and expenditure levels and patterns in the Philippines.\n",
    "\n",
    "You can download the data from [here](https://www.kaggle.com/grosvenpaul/family-income-and-expenditure).\n",
    "\n",
    "The purpose of today's lab is to use simulation to visualise the sampling distribution for the sample mean. The Central Limit Theorem (CLT) tells us that as our sample size gets larger, the sampling distribution of the sample mean converges to a normal distribution. Therefore, when we have a large sample size, we can say that the sampling distribution for the sample mean is approximately normal, regardless of the distribution from which we are sampling.\n",
    "\n",
    "Let's start by taking a look at the data, **`Total Household Income`** will serve as a \"population\" for the purposes of this lab."
   ]
  },
  {
   "cell_type": "code",
   "execution_count": 3,
   "metadata": {
    "id": "1dXTqX_NWp-3"
   },
   "outputs": [],
   "source": [
    "import pandas as pd\n",
    "import numpy as np\n",
    "import matplotlib.pyplot as plt\n",
    "import seaborn as sns\n",
    "\n",
    "%matplotlib inline"
   ]
  },
  {
   "cell_type": "code",
   "execution_count": 4,
   "metadata": {
    "id": "OzOQz3KGWp-6"
   },
   "outputs": [],
   "source": [
    "house_hold_csv = \"Family_Income_and_Expenditure.csv\"\n",
    "# Read CSV\n",
    "house_hold_data = pd.read_csv(house_hold_csv)\n"
   ]
  },
  {
   "cell_type": "code",
   "execution_count": 11,
   "metadata": {
    "id": "vLQtYvURWp-8"
   },
   "outputs": [
    {
     "name": "stdout",
     "output_type": "stream",
     "text": [
      "   Total Household Income Region  Total Food Expenditure  \\\n",
      "0                  480332    CAR                  117848   \n",
      "1                  198235    CAR                   67766   \n",
      "2                   82785    CAR                   61609   \n",
      "3                  107589    CAR                   78189   \n",
      "4                  189322    CAR                   94625   \n",
      "5                  152883    CAR                   73326   \n",
      "6                  198621    CAR                  104644   \n",
      "7                  134961    CAR                   95644   \n",
      "8                  171152    CAR                   67348   \n",
      "9                  625753    CAR                  158721   \n",
      "\n",
      "        Main Source of Income  Agricultural Household indicator  \\\n",
      "0               Wage/Salaries                                 0   \n",
      "1               Wage/Salaries                                 0   \n",
      "2               Wage/Salaries                                 1   \n",
      "3               Wage/Salaries                                 0   \n",
      "4               Wage/Salaries                                 0   \n",
      "5               Wage/Salaries                                 0   \n",
      "6               Wage/Salaries                                 0   \n",
      "7     Other sources of Income                                 1   \n",
      "8     Other sources of Income                                 0   \n",
      "9  Enterpreneurial Activities                                 0   \n",
      "\n",
      "   Bread and Cereals Expenditure  Total Rice Expenditure  Meat Expenditure  \\\n",
      "0                          42140                   38300             24676   \n",
      "1                          17329                   13008             17434   \n",
      "2                          34182                   32001              7783   \n",
      "3                          34030                   28659             10914   \n",
      "4                          34820                   30167             18391   \n",
      "5                          29065                   25190             15336   \n",
      "6                          40992                   36312             12968   \n",
      "7                          37168                   28156             14640   \n",
      "8                          23117                   15845             11464   \n",
      "9                          56003                   43239             26488   \n",
      "\n",
      "   Total Fish and  marine products Expenditure  Fruit Expenditure  ...  \\\n",
      "0                                        16806               3325  ...   \n",
      "1                                        11073               2035  ...   \n",
      "2                                         2590               1730  ...   \n",
      "3                                        10812                690  ...   \n",
      "4                                        11309               1395  ...   \n",
      "5                                         8572               2614  ...   \n",
      "6                                        12310               2565  ...   \n",
      "7                                        15896               3365  ...   \n",
      "8                                         6685               1370  ...   \n",
      "9                                        25678               3880  ...   \n",
      "\n",
      "   Number of Refrigerator/Freezer  Number of Washing Machine  \\\n",
      "0                               1                          1   \n",
      "1                               0                          1   \n",
      "2                               0                          0   \n",
      "3                               0                          0   \n",
      "4                               1                          0   \n",
      "5                               0                          1   \n",
      "6                               0                          0   \n",
      "7                               0                          1   \n",
      "8                               0                          0   \n",
      "9                               1                          0   \n",
      "\n",
      "   Number of Airconditioner  Number of Car, Jeep, Van  \\\n",
      "0                         0                         0   \n",
      "1                         0                         0   \n",
      "2                         0                         0   \n",
      "3                         0                         0   \n",
      "4                         0                         0   \n",
      "5                         0                         0   \n",
      "6                         0                         0   \n",
      "7                         0                         0   \n",
      "8                         0                         0   \n",
      "9                         0                         1   \n",
      "\n",
      "   Number of Landline/wireless telephones  Number of Cellular phone  \\\n",
      "0                                       0                         2   \n",
      "1                                       0                         3   \n",
      "2                                       0                         0   \n",
      "3                                       0                         1   \n",
      "4                                       0                         3   \n",
      "5                                       0                         4   \n",
      "6                                       0                         2   \n",
      "7                                       0                         2   \n",
      "8                                       0                         2   \n",
      "9                                       0                         4   \n",
      "\n",
      "   Number of Personal Computer  Number of Stove with Oven/Gas Range  \\\n",
      "0                            1                                    0   \n",
      "1                            1                                    0   \n",
      "2                            0                                    0   \n",
      "3                            0                                    0   \n",
      "4                            0                                    0   \n",
      "5                            0                                    0   \n",
      "6                            0                                    0   \n",
      "7                            0                                    0   \n",
      "8                            0                                    0   \n",
      "9                            1                                    0   \n",
      "\n",
      "   Number of Motorized Banca  Number of Motorcycle/Tricycle  \n",
      "0                          0                              1  \n",
      "1                          0                              2  \n",
      "2                          0                              0  \n",
      "3                          0                              0  \n",
      "4                          0                              1  \n",
      "5                          0                              1  \n",
      "6                          0                              1  \n",
      "7                          0                              1  \n",
      "8                          0                              0  \n",
      "9                          0                              0  \n",
      "\n",
      "[10 rows x 60 columns]\n"
     ]
    }
   ],
   "source": [
    " print(house_hold_data.head(10))\n",
    "\n"
   ]
  },
  {
   "cell_type": "code",
   "execution_count": 13,
   "metadata": {
    "id": "uin2jPA-Wp-_"
   },
   "outputs": [
    {
     "name": "stdout",
     "output_type": "stream",
     "text": [
      "       Total Household Income              Region  Total Food Expenditure  \\\n",
      "41534                  130950  XII - SOCCSKSARGEN                   76933   \n",
      "41535                  166600  XII - SOCCSKSARGEN                   90786   \n",
      "41536                  185100  XII - SOCCSKSARGEN                   87008   \n",
      "41537                   72000  XII - SOCCSKSARGEN                   56760   \n",
      "41538                  130636  XII - SOCCSKSARGEN                   81469   \n",
      "41539                  119773  XII - SOCCSKSARGEN                   44875   \n",
      "41540                  137320  XII - SOCCSKSARGEN                   31157   \n",
      "41541                  133171  XII - SOCCSKSARGEN                   45882   \n",
      "41542                  129500  XII - SOCCSKSARGEN                   81416   \n",
      "41543                  128598  XII - SOCCSKSARGEN                   78195   \n",
      "\n",
      "            Main Source of Income  Agricultural Household indicator  \\\n",
      "41534               Wage/Salaries                                 2   \n",
      "41535     Other sources of Income                                 2   \n",
      "41536     Other sources of Income                                 2   \n",
      "41537               Wage/Salaries                                 2   \n",
      "41538               Wage/Salaries                                 2   \n",
      "41539  Enterpreneurial Activities                                 1   \n",
      "41540  Enterpreneurial Activities                                 1   \n",
      "41541  Enterpreneurial Activities                                 2   \n",
      "41542  Enterpreneurial Activities                                 1   \n",
      "41543  Enterpreneurial Activities                                 1   \n",
      "\n",
      "       Bread and Cereals Expenditure  Total Rice Expenditure  \\\n",
      "41534                          24304                   18160   \n",
      "41535                          23658                   20118   \n",
      "41536                          19693                   15918   \n",
      "41537                          18441                   15424   \n",
      "41538                          28563                   23457   \n",
      "41539                          23675                   21542   \n",
      "41540                           2691                    1273   \n",
      "41541                          28646                   27339   \n",
      "41542                          29996                   26655   \n",
      "41543                          43485                   41205   \n",
      "\n",
      "       Meat Expenditure  Total Fish and  marine products Expenditure  \\\n",
      "41534              2248                                        17306   \n",
      "41535              4406                                        23539   \n",
      "41536              9145                                        20584   \n",
      "41537              2017                                        10623   \n",
      "41538              4728                                        12496   \n",
      "41539              1476                                         6120   \n",
      "41540              1886                                         4386   \n",
      "41541               480                                         4796   \n",
      "41542              2359                                        17730   \n",
      "41543              1985                                         7735   \n",
      "\n",
      "       Fruit Expenditure  ...  Number of Refrigerator/Freezer  \\\n",
      "41534               3255  ...                               0   \n",
      "41535               3899  ...                               0   \n",
      "41536               3068  ...                               0   \n",
      "41537               1683  ...                               0   \n",
      "41538               3508  ...                               0   \n",
      "41539               1632  ...                               0   \n",
      "41540               1840  ...                               0   \n",
      "41541               1232  ...                               0   \n",
      "41542               2923  ...                               0   \n",
      "41543               2062  ...                               0   \n",
      "\n",
      "       Number of Washing Machine  Number of Airconditioner  \\\n",
      "41534                          0                         0   \n",
      "41535                          0                         0   \n",
      "41536                          1                         0   \n",
      "41537                          0                         0   \n",
      "41538                          1                         0   \n",
      "41539                          0                         0   \n",
      "41540                          0                         0   \n",
      "41541                          0                         0   \n",
      "41542                          0                         0   \n",
      "41543                          0                         0   \n",
      "\n",
      "       Number of Car, Jeep, Van  Number of Landline/wireless telephones  \\\n",
      "41534                         0                                       0   \n",
      "41535                         0                                       0   \n",
      "41536                         0                                       0   \n",
      "41537                         0                                       0   \n",
      "41538                         0                                       0   \n",
      "41539                         0                                       0   \n",
      "41540                         0                                       0   \n",
      "41541                         0                                       0   \n",
      "41542                         0                                       0   \n",
      "41543                         0                                       0   \n",
      "\n",
      "       Number of Cellular phone  Number of Personal Computer  \\\n",
      "41534                         2                            0   \n",
      "41535                         4                            0   \n",
      "41536                         2                            0   \n",
      "41537                         2                            0   \n",
      "41538                         3                            0   \n",
      "41539                         1                            0   \n",
      "41540                         3                            0   \n",
      "41541                         1                            0   \n",
      "41542                         2                            0   \n",
      "41543                         1                            0   \n",
      "\n",
      "       Number of Stove with Oven/Gas Range  Number of Motorized Banca  \\\n",
      "41534                                    0                          0   \n",
      "41535                                    0                          0   \n",
      "41536                                    1                          0   \n",
      "41537                                    0                          0   \n",
      "41538                                    1                          0   \n",
      "41539                                    0                          0   \n",
      "41540                                    0                          0   \n",
      "41541                                    0                          0   \n",
      "41542                                    0                          0   \n",
      "41543                                    0                          0   \n",
      "\n",
      "       Number of Motorcycle/Tricycle  \n",
      "41534                              0  \n",
      "41535                              0  \n",
      "41536                              0  \n",
      "41537                              0  \n",
      "41538                              0  \n",
      "41539                              0  \n",
      "41540                              0  \n",
      "41541                              0  \n",
      "41542                              0  \n",
      "41543                              0  \n",
      "\n",
      "[10 rows x 60 columns]\n"
     ]
    }
   ],
   "source": [
    " print(house_hold_data.tail(10))\n",
    "\n",
    "\n"
   ]
  },
  {
   "cell_type": "code",
   "execution_count": 15,
   "metadata": {
    "id": "jtz27rGLWp_C"
   },
   "outputs": [
    {
     "name": "stdout",
     "output_type": "stream",
     "text": [
      "Shape of the dataset: (41544, 60)\n"
     ]
    }
   ],
   "source": [
    "print(\"Shape of the dataset:\", house_hold_data.shape)\n"
   ]
  },
  {
   "cell_type": "code",
   "execution_count": 17,
   "metadata": {
    "id": "N0UjVkZRWp_E"
   },
   "outputs": [
    {
     "name": "stdout",
     "output_type": "stream",
     "text": [
      "Data types of each column:\n",
      "Total Household Income                            int64\n",
      "Region                                           object\n",
      "Total Food Expenditure                            int64\n",
      "Main Source of Income                            object\n",
      "Agricultural Household indicator                  int64\n",
      "Bread and Cereals Expenditure                     int64\n",
      "Total Rice Expenditure                            int64\n",
      "Meat Expenditure                                  int64\n",
      "Total Fish and  marine products Expenditure       int64\n",
      "Fruit Expenditure                                 int64\n",
      "Vegetables Expenditure                            int64\n",
      "Restaurant and hotels Expenditure                 int64\n",
      "Alcoholic Beverages Expenditure                   int64\n",
      "Tobacco Expenditure                               int64\n",
      "Clothing, Footwear and Other Wear Expenditure     int64\n",
      "Housing and water Expenditure                     int64\n",
      "Imputed House Rental Value                        int64\n",
      "Medical Care Expenditure                          int64\n",
      "Transportation Expenditure                        int64\n",
      "Communication Expenditure                         int64\n",
      "Education Expenditure                             int64\n",
      "Miscellaneous Goods and Services Expenditure      int64\n",
      "Special Occasions Expenditure                     int64\n",
      "Crop Farming and Gardening expenses               int64\n",
      "Total Income from Entrepreneurial Acitivites      int64\n",
      "Household Head Sex                               object\n",
      "Household Head Age                                int64\n",
      "Household Head Marital Status                    object\n",
      "Household Head Highest Grade Completed           object\n",
      "Household Head Job or Business Indicator         object\n",
      "Household Head Occupation                        object\n",
      "Household Head Class of Worker                   object\n",
      "Type of Household                                object\n",
      "Total Number of Family members                    int64\n",
      "Members with age less than 5 year old             int64\n",
      "Members with age 5 - 17 years old                 int64\n",
      "Total number of family members employed           int64\n",
      "Type of Building/House                           object\n",
      "Type of Roof                                     object\n",
      "Type of Walls                                    object\n",
      "House Floor Area                                  int64\n",
      "House Age                                         int64\n",
      "Number of bedrooms                                int64\n",
      "Tenure Status                                    object\n",
      "Toilet Facilities                                object\n",
      "Electricity                                       int64\n",
      "Main Source of Water Supply                      object\n",
      "Number of Television                              int64\n",
      "Number of CD/VCD/DVD                              int64\n",
      "Number of Component/Stereo set                    int64\n",
      "Number of Refrigerator/Freezer                    int64\n",
      "Number of Washing Machine                         int64\n",
      "Number of Airconditioner                          int64\n",
      "Number of Car, Jeep, Van                          int64\n",
      "Number of Landline/wireless telephones            int64\n",
      "Number of Cellular phone                          int64\n",
      "Number of Personal Computer                       int64\n",
      "Number of Stove with Oven/Gas Range               int64\n",
      "Number of Motorized Banca                         int64\n",
      "Number of Motorcycle/Tricycle                     int64\n",
      "dtype: object\n"
     ]
    }
   ],
   "source": [
    "print(\"Data types of each column:\")\n",
    "print(house_hold_data.dtypes)\n"
   ]
  },
  {
   "cell_type": "markdown",
   "metadata": {
    "id": "8C9HLIwaWp_G"
   },
   "source": [
    "#### Surveying the populations\n",
    "\n",
    "##### 1. Create a histogram of `Total Household Income`."
   ]
  },
  {
   "cell_type": "code",
   "execution_count": 19,
   "metadata": {
    "id": "ge1hHvg7Wp_H"
   },
   "outputs": [
    {
     "data": {
      "image/png": "[encoded data removed]",
      "text/plain": [
       "<Figure size 640x480 with 1 Axes>"
      ]
     },
     "metadata": {},
     "output_type": "display_data"
    }
   ],
   "source": [
    "# ANSWER\n",
    "plt.hist(house_hold_data['Total Household Income'].dropna(), bins=30, edgecolor='k')\n",
    "plt.title('Histogram of Total Household Income')\n",
    "plt.xlabel('Total Household Income')\n",
    "plt.ylabel('Frequency')\n",
    "plt.show()\n"
   ]
  },
  {
   "cell_type": "markdown",
   "metadata": {
    "id": "Kvj7MZo7Wp_J"
   },
   "source": [
    "##### 2. How would you describe the shape of this population?"
   ]
  },
  {
   "cell_type": "markdown",
   "metadata": {
    "id": "pgFbYuCYWp_J"
   },
   "source": [
    "**ANSWER:**\n"
   ]
  },
  {
   "cell_type": "markdown",
   "metadata": {
    "id": "I4WSzg_QWp_K"
   },
   "source": [
    "##### 2. What is the mean income of this population?"
   ]
  },
  {
   "cell_type": "code",
   "execution_count": 25,
   "metadata": {
    "id": "AFRb6NTrWp_L"
   },
   "outputs": [
    {
     "name": "stdout",
     "output_type": "stream",
     "text": [
      "Mean Total Household Income: 247555.58480165608\n"
     ]
    }
   ],
   "source": [
    "mean_income = house_hold_data['Total Household Income'].mean()\n",
    "print(\"Mean Total Household Income:\", mean_income)\n"
   ]
  },
  {
   "cell_type": "markdown",
   "metadata": {
    "id": "7t2837pfWp_N"
   },
   "source": [
    "##### 3. What sampling statistic/point estimate would you use to estimate the mean of this population if you were given a random sample from the population?"
   ]
  },
  {
   "cell_type": "code",
   "execution_count": 27,
   "metadata": {
    "id": "ggfGT1mAWp_O"
   },
   "outputs": [
    {
     "name": "stdout",
     "output_type": "stream",
     "text": [
      "Sample Mean of Total Household Income: 257648.54\n"
     ]
    }
   ],
   "source": [
    "# ANSWER\n",
    "sample = house_hold_data['Total Household Income'].dropna().sample(n=100, random_state=42)\n",
    "sample_mean = sample.mean()\n",
    "print(\"Sample Mean of Total Household Income:\", sample_mean)\n"
   ]
  },
  {
   "cell_type": "markdown",
   "metadata": {
    "id": "H4-qmwfKWp_Q"
   },
   "source": [
    "**ANSWER:**\n"
   ]
  },
  {
   "cell_type": "markdown",
   "metadata": {
    "id": "X1idVptIWp_R"
   },
   "source": [
    "#### Simulated sampling (sample means)"
   ]
  },
  {
   "cell_type": "markdown",
   "metadata": {
    "id": "SKkYeNcCWp_R"
   },
   "source": [
    "Now, we'd like to get an idea of what happens when we take multiple random samples of size 5.\n",
    "\n",
    "Take 10 sample (size=5) from the entire population. Calculate means for each sample. Now make a histogram of all the sample means.\n",
    "\n",
    "- Describe the shape of the histogram.\n",
    "- What is the center of the distribution of sample means?"
   ]
  },
  {
   "cell_type": "markdown",
   "metadata": {
    "id": "OyPK3qRcWp_S"
   },
   "source": [
    "##### 4. Simulation with `sample_size=5`"
   ]
  },
  {
   "cell_type": "markdown",
   "metadata": {
    "id": "vOk-K5ERWp_S"
   },
   "source": [
    "Take 10 samples, but with a sample size of 5."
   ]
  },
  {
   "cell_type": "code",
   "execution_count": 33,
   "metadata": {
    "id": "cy9hYhC-Wp_T"
   },
   "outputs": [
    {
     "name": "stdout",
     "output_type": "stream",
     "text": [
      "Sample Means: [150555.8, 204440.6, 454400.6, 139026.6, 123564.6, 179157.4, 150244.8, 200181.6, 218821.8, 124310.4]\n",
      "Center of the Distribution of Sample Means: 194470.41999999998\n"
     ]
    }
   ],
   "source": [
    "# ANSWER\n",
    "sample_means = []\n",
    "\n",
    "for _ in range(10):\n",
    "    sample = house_hold_data['Total Household Income'].dropna().sample(n=5, random_state=np.random.randint(0, 10000))\n",
    "    sample_mean = sample.mean()\n",
    "    sample_means.append(sample_mean)\n",
    "print(\"Sample Means:\", sample_means)\n",
    "print(\"Center of the Distribution of Sample Means:\", np.mean(sample_means))\n"
   ]
  },
  {
   "cell_type": "markdown",
   "metadata": {
    "id": "B_R3uh2vWp_b"
   },
   "source": [
    "###### 4.A Make a histogram of all the sample means"
   ]
  },
  {
   "cell_type": "code",
   "execution_count": 31,
   "metadata": {
    "id": "fxfFQoymWp_c"
   },
   "outputs": [
    {
     "data": {
      "image/png": "[encoded data removed]",
      "text/plain": [
       "<Figure size 640x480 with 1 Axes>"
      ]
     },
     "metadata": {},
     "output_type": "display_data"
    }
   ],
   "source": [
    "# ANSWER\n",
    "plt.hist(sample_means, bins=5, edgecolor='k')\n",
    "plt.title('Histogram of Sample Means (Sample Size = 5)')\n",
    "plt.xlabel('Sample Mean')\n",
    "plt.ylabel('Frequency')\n",
    "plt.show()\n",
    "\n",
    "\n"
   ]
  },
  {
   "cell_type": "markdown",
   "metadata": {
    "id": "Wgz--ujKWp_e"
   },
   "source": [
    "###### 4.B Describe the shape of the histogram."
   ]
  },
  {
   "cell_type": "markdown",
   "metadata": {
    "id": "1bvqt98-Wp_f"
   },
   "source": [
    "**ANSWER:**\n"
   ]
  },
  {
   "cell_type": "markdown",
   "metadata": {
    "id": "rvx1E9OdWp_g"
   },
   "source": [
    "##### 7. Simulation with `sample_size=15`"
   ]
  },
  {
   "cell_type": "markdown",
   "metadata": {
    "id": "8iCYMHr7Wp_g"
   },
   "source": [
    "let's try taking another 1000 samples, but with a sample size of 15"
   ]
  },
  {
   "cell_type": "code",
   "execution_count": 43,
   "metadata": {
    "id": "OLe04oY5Wp_h"
   },
   "outputs": [],
   "source": [
    "# ANSWER\n",
    "for _ in range(1000):\n",
    "    sample = house_hold_data['Total Household Income'].dropna().sample(n=15, random_state=np.random.randint(0, 10000))\n",
    "    sample_mean = sample.mean()\n",
    "    sample_means.append(sample_mean)\n"
   ]
  },
  {
   "cell_type": "markdown",
   "metadata": {
    "id": "mEsn6pYpWp_k"
   },
   "source": [
    "##### 8. Simulation with `sample_size=50`"
   ]
  },
  {
   "cell_type": "markdown",
   "metadata": {
    "id": "Hf1nTCxzWp_l"
   },
   "source": [
    "Let's try taking another 1000 samples, but with a sample size of 50"
   ]
  },
  {
   "cell_type": "code",
   "execution_count": 47,
   "metadata": {
    "id": "TVmVzgJwWp_l"
   },
   "outputs": [
    {
     "name": "stdout",
     "output_type": "stream",
     "text": [
      "Center of the Distribution of Sample Means: 247112.40332333336\n"
     ]
    }
   ],
   "source": [
    "# ANSWERsample_means = []\n",
    "\n",
    "ample_means = []\n",
    "\n",
    "for _ in range(1000):\n",
    "    sample = house_hold_data['Total Household Income'].dropna().sample(n=50, random_state=np.random.randint(0, 10000))\n",
    "    sample_mean = sample.mean()\n",
    "    sample_means.append(sample_mean)\n",
    "print(\"Center of the Distribution of Sample Means:\", np.mean(sample_means))\n",
    "\n",
    "\n",
    "\n",
    "\n"
   ]
  },
  {
   "cell_type": "markdown",
   "metadata": {
    "id": "61vjImD6Wp_p"
   },
   "source": [
    "###### 8.A Describe the shape of the histogram of sample means (using sample size of 50)"
   ]
  },
  {
   "cell_type": "code",
   "execution_count": 50,
   "metadata": {},
   "outputs": [
    {
     "data": {
      "image/png": "[encoded data removed]",
      "text/plain": [
       "<Figure size 640x480 with 1 Axes>"
      ]
     },
     "metadata": {},
     "output_type": "display_data"
    }
   ],
   "source": [
    "plt.hist(sample_means, bins=30, edgecolor='k')\n",
    "plt.title('Histogram of Sample Means (Sample Size = 50)')\n",
    "plt.xlabel('Sample Mean')\n",
    "plt.ylabel('Frequency')\n",
    "plt.show()"
   ]
  },
  {
   "cell_type": "markdown",
   "metadata": {
    "id": "RQmiqmA3Wp_r"
   },
   "source": [
    "**ANSWER:**\n"
   ]
  },
  {
   "cell_type": "markdown",
   "metadata": {
    "id": "S4CYvqnWWp_s"
   },
   "source": [
    "###### 8.B What is mean of the distribution of sample means?"
   ]
  },
  {
   "cell_type": "code",
   "execution_count": 54,
   "metadata": {
    "id": "u9o6BrUOWp_t"
   },
   "outputs": [
    {
     "name": "stdout",
     "output_type": "stream",
     "text": [
      "Mean of the Distribution of Sample Means (Sample Size = 15): 247112.40332333336\n"
     ]
    }
   ],
   "source": [
    "# ANSWER\n",
    "mean_of_sample_means = np.mean(sample_means)\n",
    "print(\"Mean of the Distribution of Sample Means (Sample Size = 15):\", mean_of_sample_means)\n"
   ]
  },
  {
   "cell_type": "markdown",
   "metadata": {
    "id": "vWIOMBaJWp_w"
   },
   "source": [
    "**ANSWER:**\n",
    "\n",
    "> If repeated random samples of a given size n are taken from a population of values for a quantitative variable, where the population mean is μ (mu) and the population standard deviation is σ (sigma) then the mean of all sample means (x-bars) is population mean μ (mu)."
   ]
  },
  {
   "cell_type": "markdown",
   "metadata": {
    "id": "qsjv6QjVWp_w"
   },
   "source": [
    "###### 8.C As the sample size grew, did your results confirm the CLT?"
   ]
  },
  {
   "cell_type": "markdown",
   "metadata": {
    "id": "SgwjPt_sWp_9"
   },
   "source": [
    "**ANSWER:**\n",
    "\n"
   ]
  },
  {
   "cell_type": "markdown",
   "metadata": {
    "id": "Pc-3XvwPnfkk"
   },
   "source": [
    "\n",
    "\n",
    "---\n",
    "\n",
    "\n",
    "\n",
    "---\n",
    "\n",
    "\n",
    "\n",
    "> > > > > > > > > © 2024 Institute of Data\n",
    "\n",
    "\n",
    "---\n",
    "\n",
    "\n",
    "\n",
    "---\n",
    "\n",
    "\n",
    "\n"
   ]
  }
 ],
 "metadata": {
  "colab": {
   "provenance": []
  },
  "kernelspec": {
   "display_name": "Python 3 (ipykernel)",
   "language": "python",
   "name": "python3"
  },
  "language_info": {
   "codemirror_mode": {
    "name": "ipython",
    "version": 3
   },
   "file_extension": ".py",
   "mimetype": "text/x-python",
   "name": "python",
   "nbconvert_exporter": "python",
   "pygments_lexer": "ipython3",
   "version": "3.11.7"
  }
 },
 "nbformat": 4,
 "nbformat_minor": 4
}
